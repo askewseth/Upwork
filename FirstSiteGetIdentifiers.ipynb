{
 "cells": [
  {
   "cell_type": "code",
   "execution_count": 1,
   "metadata": {
    "collapsed": true
   },
   "outputs": [],
   "source": [
    "from selenium import webdriver"
   ]
  },
  {
   "cell_type": "code",
   "execution_count": 4,
   "metadata": {
    "collapsed": true
   },
   "outputs": [],
   "source": [
    "from __future__ import division"
   ]
  },
  {
   "cell_type": "code",
   "execution_count": 15,
   "metadata": {
    "collapsed": true
   },
   "outputs": [],
   "source": [
    "import pickle as p"
   ]
  },
  {
   "cell_type": "code",
   "execution_count": 2,
   "metadata": {
    "collapsed": true
   },
   "outputs": [],
   "source": [
    "driver = webdriver.Firefox()\n",
    "first_site = \"http://www.milanuncios.com/servicios/\"\n",
    "driver.get(first_site)"
   ]
  },
  {
   "cell_type": "code",
   "execution_count": 7,
   "metadata": {
    "collapsed": true
   },
   "outputs": [],
   "source": [
    "def get_links(driver):\n",
    "    x5_elements = driver.find_elements_by_class_name(\"x5\")\n",
    "    text = [x.text[1:] for x in x5_elements]\n",
    "    return text"
   ]
  },
  {
   "cell_type": "code",
   "execution_count": 8,
   "metadata": {
    "collapsed": true
   },
   "outputs": [],
   "source": [
    "def click_next(driver):\n",
    "    next_button = driver.find_element_by_link_text(\"Siguiente\")\n",
    "    next_button.click()"
   ]
  },
  {
   "cell_type": "code",
   "execution_count": 3,
   "metadata": {
    "collapsed": false
   },
   "outputs": [
    {
     "name": "stdout",
     "output_type": "stream",
     "text": [
      "198 was the last page\n"
     ]
    }
   ],
   "source": [
    "links = []\n",
    "for x in range(199):\n",
    "    x5_elements = driver.find_elements_by_class_name(\"x5\")\n",
    "    text = [i.text[1:] for i in x5_elements]\n",
    "    links.append((x+1, text))\n",
    "    try:\n",
    "        next_button = driver.find_element_by_link_text(\"Siguiente\")\n",
    "        next_button.click()\n",
    "    except:\n",
    "        print x, \"was the last page\"\n",
    "        break"
   ]
  },
  {
   "cell_type": "code",
   "execution_count": 6,
   "metadata": {
    "collapsed": false
   },
   "outputs": [
    {
     "data": {
      "text/plain": [
       "199"
      ]
     },
     "execution_count": 6,
     "metadata": {},
     "output_type": "execute_result"
    }
   ],
   "source": [
    "len(links)"
   ]
  },
  {
   "cell_type": "code",
   "execution_count": 9,
   "metadata": {
    "collapsed": false
   },
   "outputs": [
    {
     "data": {
      "text/plain": [
       "(199,\n",
       " [u'201456229',\n",
       "  u'193050591',\n",
       "  u'183190123',\n",
       "  u'182536570',\n",
       "  u'123321095',\n",
       "  u'195995713',\n",
       "  u'190492531',\n",
       "  u'140676010',\n",
       "  u'139627966',\n",
       "  u'198193228',\n",
       "  u'198150935',\n",
       "  u'183192819',\n",
       "  u'139020733',\n",
       "  u'137508545',\n",
       "  u'119946880',\n",
       "  u'201734770',\n",
       "  u'195995598',\n",
       "  u'182715212',\n",
       "  u'200651582',\n",
       "  u'200516453',\n",
       "  u'190118436',\n",
       "  u'187040151',\n",
       "  u'185737507',\n",
       "  u'184970003',\n",
       "  u'160574625',\n",
       "  u'201735023',\n",
       "  u'196865455',\n",
       "  u'182321999',\n",
       "  u'121205557',\n",
       "  u'116066801'])"
      ]
     },
     "execution_count": 9,
     "metadata": {},
     "output_type": "execute_result"
    }
   ],
   "source": [
    "links[-1]"
   ]
  },
  {
   "cell_type": "code",
   "execution_count": 5,
   "metadata": {
    "collapsed": false
   },
   "outputs": [
    {
     "data": {
      "text/plain": [
       "3572.8643216080404"
      ]
     },
     "execution_count": 5,
     "metadata": {},
     "output_type": "execute_result"
    }
   ],
   "source": [
    "711000/199"
   ]
  },
  {
   "cell_type": "code",
   "execution_count": 10,
   "metadata": {
    "collapsed": true
   },
   "outputs": [],
   "source": [
    "_, ids = zip(*links)"
   ]
  },
  {
   "cell_type": "code",
   "execution_count": 12,
   "metadata": {
    "collapsed": false
   },
   "outputs": [],
   "source": [
    "all_ids = [item for li in ids for item in li]"
   ]
  },
  {
   "cell_type": "code",
   "execution_count": 14,
   "metadata": {
    "collapsed": false
   },
   "outputs": [
    {
     "data": {
      "text/plain": [
       "5940"
      ]
     },
     "execution_count": 14,
     "metadata": {},
     "output_type": "execute_result"
    }
   ],
   "source": [
    "len(all_ids)"
   ]
  },
  {
   "cell_type": "code",
   "execution_count": 16,
   "metadata": {
    "collapsed": true
   },
   "outputs": [],
   "source": [
    "with open(\"first_site_ids.p\", \"rb\") as f:\n",
    "    old_ids_all = p.load(f)"
   ]
  },
  {
   "cell_type": "code",
   "execution_count": 19,
   "metadata": {
    "collapsed": false
   },
   "outputs": [],
   "source": [
    "_, old_ids_list = zip(*old_ids_all)"
   ]
  },
  {
   "cell_type": "code",
   "execution_count": 21,
   "metadata": {
    "collapsed": false
   },
   "outputs": [],
   "source": [
    "old_ids = [item for li in old_ids_list for item in li]"
   ]
  },
  {
   "cell_type": "code",
   "execution_count": 22,
   "metadata": {
    "collapsed": false
   },
   "outputs": [
    {
     "data": {
      "text/plain": [
       "5970"
      ]
     },
     "execution_count": 22,
     "metadata": {},
     "output_type": "execute_result"
    }
   ],
   "source": [
    "len(old_ids)"
   ]
  },
  {
   "cell_type": "code",
   "execution_count": 26,
   "metadata": {
    "collapsed": true
   },
   "outputs": [],
   "source": [
    "all_ids_sorted = sorted(set(all_ids))\n",
    "old_ids_sorted = sorted(set(old_ids))"
   ]
  },
  {
   "cell_type": "code",
   "execution_count": 29,
   "metadata": {
    "collapsed": false
   },
   "outputs": [
    {
     "name": "stdout",
     "output_type": "stream",
     "text": [
      "100542932\n",
      "100617556\n",
      "100633076\n",
      "100666882\n",
      "101023810\n",
      "101836170\n",
      "101933737\n",
      "101978997\n",
      "102024632\n",
      "102924942\n",
      "BREAK\n",
      "10014896\n",
      "10014900\n",
      "100458139\n",
      "100617556\n",
      "100633076\n",
      "100666882\n",
      "101023810\n",
      "101082921\n",
      "101576753\n",
      "102924942\n"
     ]
    }
   ],
   "source": [
    "print '\\n'.join(all_ids_sorted[:10])\n",
    "print 'BREAK'\n",
    "print '\\n'.join(old_ids_sorted[:10])\n"
   ]
  },
  {
   "cell_type": "code",
   "execution_count": 27,
   "metadata": {
    "collapsed": false
   },
   "outputs": [
    {
     "data": {
      "text/plain": [
       "4933"
      ]
     },
     "execution_count": 27,
     "metadata": {},
     "output_type": "execute_result"
    }
   ],
   "source": [
    "len(all_ids_sorted)"
   ]
  },
  {
   "cell_type": "code",
   "execution_count": 28,
   "metadata": {
    "collapsed": false
   },
   "outputs": [
    {
     "data": {
      "text/plain": [
       "5183"
      ]
     },
     "execution_count": 28,
     "metadata": {},
     "output_type": "execute_result"
    }
   ],
   "source": [
    "len(old_ids_sorted)"
   ]
  },
  {
   "cell_type": "code",
   "execution_count": null,
   "metadata": {
    "collapsed": true
   },
   "outputs": [],
   "source": []
  }
 ],
 "metadata": {
  "kernelspec": {
   "display_name": "Python 2",
   "language": "python",
   "name": "python2"
  },
  "language_info": {
   "codemirror_mode": {
    "name": "ipython",
    "version": 2
   },
   "file_extension": ".py",
   "mimetype": "text/x-python",
   "name": "python",
   "nbconvert_exporter": "python",
   "pygments_lexer": "ipython2",
   "version": "2.7.11"
  }
 },
 "nbformat": 4,
 "nbformat_minor": 0
}
