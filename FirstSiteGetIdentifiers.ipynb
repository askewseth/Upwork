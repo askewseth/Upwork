{
 "cells": [
  {
   "cell_type": "code",
   "execution_count": 11,
   "metadata": {
    "collapsed": true
   },
   "outputs": [],
   "source": [
    "from selenium import webdriver"
   ]
  },
  {
   "cell_type": "code",
   "execution_count": 22,
   "metadata": {
    "collapsed": true
   },
   "outputs": [],
   "source": [
    "driver = webdriver.Firefox()\n",
    "first_site = \"http://www.milanuncios.com/servicios/\"\n",
    "driver.get(first_site)"
   ]
  },
  {
   "cell_type": "code",
   "execution_count": 7,
   "metadata": {
    "collapsed": true
   },
   "outputs": [],
   "source": [
    "def get_links(driver):\n",
    "    x5_elements = driver.find_elements_by_class_name(\"x5\")\n",
    "    text = [x.text[1:] for x in x5_elements]\n",
    "    return text"
   ]
  },
  {
   "cell_type": "code",
   "execution_count": 8,
   "metadata": {
    "collapsed": true
   },
   "outputs": [],
   "source": [
    "def click_next(driver):\n",
    "    next_button = driver.find_element_by_link_text(\"Siguiente\")\n",
    "    next_button.click()"
   ]
  },
  {
   "cell_type": "code",
   "execution_count": null,
   "metadata": {
    "collapsed": false
   },
   "outputs": [],
   "source": [
    "links = []\n",
    "for x in range(199):\n",
    "    x5_elements = driver.find_elements_by_class_name(\"x5\")\n",
    "    text = [i.text[1:] for i in x5_elements]\n",
    "    links.append((x+1, text))\n",
    "    try:\n",
    "        next_button = driver.find_element_by_link_text(\"Siguiente\")\n",
    "        next_button.click()\n",
    "    except:\n",
    "        print x, \"was the last page\"\n",
    "        break\n",
    "    "
   ]
  },
  {
   "cell_type": "code",
   "execution_count": 14,
   "metadata": {
    "collapsed": false
   },
   "outputs": [
    {
     "data": {
      "text/plain": [
       "199"
      ]
     },
     "execution_count": 14,
     "metadata": {},
     "output_type": "execute_result"
    }
   ],
   "source": [
    "len(links)"
   ]
  },
  {
   "cell_type": "code",
   "execution_count": 18,
   "metadata": {
    "collapsed": false
   },
   "outputs": [
    {
     "data": {
      "text/plain": [
       "30"
      ]
     },
     "execution_count": 18,
     "metadata": {},
     "output_type": "execute_result"
    }
   ],
   "source": [
    "len(links[1])"
   ]
  },
  {
   "cell_type": "code",
   "execution_count": 19,
   "metadata": {
    "collapsed": false
   },
   "outputs": [
    {
     "data": {
      "text/plain": [
       "[u'171431604',\n",
       " u'163918186',\n",
       " u'159768433',\n",
       " u'155911986',\n",
       " u'138495356',\n",
       " u'120370416',\n",
       " u'107658726',\n",
       " u'202674070',\n",
       " u'201905924',\n",
       " u'200053974',\n",
       " u'194842787',\n",
       " u'193732648',\n",
       " u'192396220',\n",
       " u'191371980',\n",
       " u'184211482',\n",
       " u'184208992',\n",
       " u'176787543',\n",
       " u'155703803',\n",
       " u'151613296',\n",
       " u'133793506',\n",
       " u'84020458',\n",
       " u'202995650',\n",
       " u'201905636',\n",
       " u'197542072',\n",
       " u'195010104',\n",
       " u'185054351',\n",
       " u'175281891',\n",
       " u'161184242',\n",
       " u'157074935',\n",
       " u'156691508']"
      ]
     },
     "execution_count": 19,
     "metadata": {},
     "output_type": "execute_result"
    }
   ],
   "source": [
    "links[-1]"
   ]
  },
  {
   "cell_type": "code",
   "execution_count": null,
   "metadata": {
    "collapsed": true
   },
   "outputs": [],
   "source": []
  }
 ],
 "metadata": {
  "kernelspec": {
   "display_name": "Python 2",
   "language": "python",
   "name": "python2"
  },
  "language_info": {
   "codemirror_mode": {
    "name": "ipython",
    "version": 2
   },
   "file_extension": ".py",
   "mimetype": "text/x-python",
   "name": "python",
   "nbconvert_exporter": "python",
   "pygments_lexer": "ipython2",
   "version": "2.7.6"
  }
 },
 "nbformat": 4,
 "nbformat_minor": 0
}
