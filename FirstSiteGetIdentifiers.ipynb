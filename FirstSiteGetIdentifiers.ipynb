{
 "cells": [
  {
   "cell_type": "code",
   "execution_count": 11,
   "metadata": {
    "collapsed": true
   },
   "outputs": [],
   "source": [
    "from selenium import webdriver"
   ]
  },
  {
   "cell_type": "code",
   "execution_count": 22,
   "metadata": {
    "collapsed": true
   },
   "outputs": [],
   "source": [
    "driver = webdriver.Firefox()\n",
    "first_site = \"http://www.milanuncios.com/servicios/\"\n",
    "driver.get(first_site)"
   ]
  },
  {
   "cell_type": "code",
   "execution_count": 7,
   "metadata": {
    "collapsed": true
   },
   "outputs": [],
   "source": [
    "def get_links(driver):\n",
    "    x5_elements = driver.find_elements_by_class_name(\"x5\")\n",
    "    text = [x.text[1:] for x in x5_elements]\n",
    "    return text"
   ]
  },
  {
   "cell_type": "code",
   "execution_count": 8,
   "metadata": {
    "collapsed": true
   },
   "outputs": [],
   "source": [
    "def click_next(driver):\n",
    "    next_button = driver.find_element_by_link_text(\"Siguiente\")\n",
    "    next_button.click()"
   ]
  },
  {
   "cell_type": "code",
   "execution_count": 23,
   "metadata": {
    "collapsed": false
   },
   "outputs": [
    {
     "name": "stdout",
     "output_type": "stream",
     "text": [
      "198 was the last page\n"
     ]
    }
   ],
   "source": [
    "links = []\n",
    "for x in range(199):\n",
    "    x5_elements = driver.find_elements_by_class_name(\"x5\")\n",
    "    text = [i.text[1:] for i in x5_elements]\n",
    "    links.append((x+1, text))\n",
    "    try:\n",
    "        next_button = driver.find_element_by_link_text(\"Siguiente\")\n",
    "        next_button.click()\n",
    "    except:\n",
    "        print x, \"was the last page\"\n",
    "        break\n",
    "    "
   ]
  },
  {
   "cell_type": "code",
   "execution_count": 14,
   "metadata": {
    "collapsed": false
   },
   "outputs": [
    {
     "data": {
      "text/plain": [
       "199"
      ]
     },
     "execution_count": 14,
     "metadata": {},
     "output_type": "execute_result"
    }
   ],
   "source": [
    "len(links)"
   ]
  },
  {
   "cell_type": "code",
   "execution_count": 18,
   "metadata": {
    "collapsed": false
   },
   "outputs": [
    {
     "data": {
      "text/plain": [
       "30"
      ]
     },
     "execution_count": 18,
     "metadata": {},
     "output_type": "execute_result"
    }
   ],
   "source": [
    "len(links[1])"
   ]
  },
  {
   "cell_type": "code",
   "execution_count": 25,
   "metadata": {
    "collapsed": false
   },
   "outputs": [
    {
     "data": {
      "text/plain": [
       "(1,\n",
       " [u'200190837',\n",
       "  u'203021424',\n",
       "  u'200193288',\n",
       "  u'146783266',\n",
       "  u'125385558',\n",
       "  u'195406564',\n",
       "  u'187404610',\n",
       "  u'202946282',\n",
       "  u'99580378',\n",
       "  u'127818776',\n",
       "  u'201407713',\n",
       "  u'203261498',\n",
       "  u'195763717',\n",
       "  u'199999294',\n",
       "  u'181935379',\n",
       "  u'199640190',\n",
       "  u'202772175',\n",
       "  u'182317012',\n",
       "  u'182780338',\n",
       "  u'181273166',\n",
       "  u'201284700',\n",
       "  u'202677911',\n",
       "  u'180957866',\n",
       "  u'195131634',\n",
       "  u'182512014',\n",
       "  u'184310836',\n",
       "  u'160835480',\n",
       "  u'149650762',\n",
       "  u'179651891',\n",
       "  u'152844324'])"
      ]
     },
     "execution_count": 25,
     "metadata": {},
     "output_type": "execute_result"
    }
   ],
   "source": [
    "links[0]"
   ]
  },
  {
   "cell_type": "code",
   "execution_count": null,
   "metadata": {
    "collapsed": true
   },
   "outputs": [],
   "source": []
  }
 ],
 "metadata": {
  "kernelspec": {
   "display_name": "Python 2",
   "language": "python",
   "name": "python2"
  },
  "language_info": {
   "codemirror_mode": {
    "name": "ipython",
    "version": 2
   },
   "file_extension": ".py",
   "mimetype": "text/x-python",
   "name": "python",
   "nbconvert_exporter": "python",
   "pygments_lexer": "ipython2",
   "version": "2.7.6"
  }
 },
 "nbformat": 4,
 "nbformat_minor": 0
}
